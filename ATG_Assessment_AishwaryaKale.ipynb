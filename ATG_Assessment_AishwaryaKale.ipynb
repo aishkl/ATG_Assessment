{
  "nbformat": 4,
  "nbformat_minor": 0,
  "metadata": {
    "colab": {
      "provenance": []
    },
    "kernelspec": {
      "name": "python3",
      "display_name": "Python 3"
    },
    "language_info": {
      "name": "python"
    }
  },
  "cells": [
    {
      "cell_type": "code",
      "execution_count": null,
      "metadata": {
        "colab": {
          "base_uri": "https://localhost:8080/"
        },
        "id": "yWyYJ3igWW8R",
        "outputId": "b41c7491-d7e0-426a-d9dc-5720bd90f910"
      },
      "outputs": [
        {
          "output_type": "stream",
          "name": "stdout",
          "text": [
            "The  quick brown\n",
            "fox jumps over a\n",
            "lazy dog.       \n"
          ]
        }
      ],
      "source": [
        "class TextJustify:\n",
        "\n",
        "  def justify(self,line,length):\n",
        "      # split the line into word list\n",
        "      words = line.split()\n",
        "      maxLength = length\n",
        "      res=self.mainJustify(words, maxLength)\n",
        "      res = '\\n'.join(map(str, res))\n",
        "      return res\n",
        "\n",
        "  def insertSpaces(self,string,maxLength, isLast):\n",
        "    spaces = maxLength - len(string)\n",
        "    stringList = string.split(' ') \n",
        "    # if last word or single word list , rerturn result with adding required spaces until max length\n",
        "    if len(stringList) == 1 or isLast:\n",
        "        return string + (' ' * spaces)\n",
        "    # add required spaces to the string\n",
        "    else:\n",
        "        while spaces:\n",
        "            for i in range(len(stringList) - 1):\n",
        "                if spaces:\n",
        "                    stringList[i] += ' '\n",
        "                    spaces -= 1\n",
        "                else:\n",
        "                    break\n",
        "    return ' '.join(stringList)\n",
        "\n",
        "  def mainJustify(self, words, maxLength):   \n",
        "      \n",
        "      res = [] \n",
        "      curr_line = \"\"\n",
        "      for word in words:\n",
        "          # insert first word to empty  string\n",
        "          if not curr_line:\n",
        "              curr_line += word\n",
        "          # append the word on same line if length of line & length of given word are within range of max length\n",
        "          elif len(curr_line + ' ' + word) <= maxLength:\n",
        "              curr_line += ' ' + word\n",
        "          # if word cannot fit in same line , call another function and passing False flag for non-last word \n",
        "          else:\n",
        "              res.append(self.insertSpaces(curr_line,maxLength, False))\n",
        "              curr_line = word\n",
        "      \n",
        "      # for the last word ,pass True flag and append the returned result \n",
        "      res.append(self.insertSpaces(curr_line,maxLength, True))\n",
        "      return res\n",
        "\n",
        "\n",
        "if __name__ == \"__main__\":\n",
        "    line = \"The quick brown fox jumps over a lazy dog.\"\n",
        "    length = 16\n",
        "    tj = TextJustify()\n",
        "    output = tj.justify(line,length)\n",
        "    print(output)"
      ]
    },
    {
      "cell_type": "code",
      "source": [],
      "metadata": {
        "id": "8ZqWnW9iWaHC"
      },
      "execution_count": null,
      "outputs": []
    }
  ]
}